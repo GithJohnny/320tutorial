{
 "cells": [
  {
   "cell_type": "code",
   "execution_count": 1,
   "id": "98a8c835-8c11-4eb4-b4d3-7ce0505b201a",
   "metadata": {},
   "outputs": [
    {
     "name": "stderr",
     "output_type": "stream",
     "text": [
      "/opt/conda/lib/python3.9/site-packages/statsmodels/compat/pandas.py:65: FutureWarning: pandas.Int64Index is deprecated and will be removed from pandas in a future version. Use pandas.Index with the appropriate dtype instead.\n",
      "  from pandas import Int64Index as NumericIndex\n"
     ]
    }
   ],
   "source": [
    "import requests\n",
    "import json\n",
    "import sys\n",
    "import matplotlib.pyplot as plt\n",
    "from matplotlib.dates import drange\n",
    "from datetime import datetime, timedelta\n",
    "import numpy as np\n",
    "import pandas as pd\n",
    "from tqdm import tqdm\n",
    "import os\n",
    "import math\n",
    "import time\n",
    "import statsmodels.api as sm\n",
    "import matplotlib.dates as mdates\n",
    "from patsy import dmatrices"
   ]
  },
  {
   "cell_type": "markdown",
   "id": "eaa2ddaa-2423-4471-92af-40889f1525d9",
   "metadata": {},
   "source": [
    "# Introduction"
   ]
  },
  {
   "cell_type": "markdown",
   "id": "2c493cdf-0623-48be-b150-7f487474e09d",
   "metadata": {},
   "source": [
    "Many people play video games, but there is a growing community of people who enjoy an extra challenge: finishing the game as fast as possible. For practically every game, there is a speedrunning scene. In the early days of speedrunning, the practice was incredibly niche and splintered on various websites. But over the past 2 decades Speedrunning.com has become the biggest congregation of speedrunning content on the internet. The top players of my speedrunning scene, Minecraft: Java Edition, have noted how the number of players/runs during quarantine has exploded, to the point where moderation became backlogged. So I wanted to download data from the website and see if this quarantine effect was real, and if so was it the only variable involved?"
   ]
  },
  {
   "cell_type": "markdown",
   "id": "166b956f-365e-40e4-8377-062028af977c",
   "metadata": {},
   "source": [
    "# Collecting the data"
   ]
  },
  {
   "cell_type": "markdown",
   "id": "56d15fc2-66cf-46b4-983b-e6511f80d231",
   "metadata": {},
   "source": [
    "Thankfully, Speedrun.com provides a rest API for us to pull information about games, leaderboards, and even individual runs. The API requires a header that briefly describes the use, which we do here:"
   ]
  },
  {
   "cell_type": "code",
   "execution_count": 2,
   "id": "e076162e-8191-46cf-97ea-6219836b08d2",
   "metadata": {},
   "outputs": [],
   "source": [
    "init_headers = {'User-Agent': 'uni-project-bot/1.0'}"
   ]
  },
  {
   "cell_type": "markdown",
   "id": "4012efb9-3551-480e-89b1-3630b31d93df",
   "metadata": {},
   "source": [
    "Now we can pull every game that is on Speedrun.com. We can request the IDs of games, which are used to uniquely identify them, and are useful for gaining more important information later. "
   ]
  },
  {
   "cell_type": "code",
   "execution_count": 3,
   "id": "b858ee1a-a187-43d6-88c7-325a8d1724d1",
   "metadata": {},
   "outputs": [
    {
     "name": "stdout",
     "output_type": "stream",
     "text": [
      "28755\n"
     ]
    }
   ],
   "source": [
    "game_IDs = []\n",
    "offset = 0\n",
    "# Request every game in batches of 1000\n",
    "while(True):\n",
    "    # Request and unpack 1000 games\n",
    "    URL = 'https://www.speedrun.com/api/v1/games?_bulk=yes&max=1000&offset=' + str(offset)\n",
    "    response = requests.get(URL, init_headers)\n",
    "    data = response.json()['data']\n",
    "    # Add each game to array\n",
    "    for game in data:\n",
    "        game_IDs.append(game['id'])\n",
    "    offset += 1000\n",
    "    # If length is less than max, we break\n",
    "    if len(data) < 1000:\n",
    "        break\n",
    "print(len(game_IDs))"
   ]
  },
  {
   "cell_type": "markdown",
   "id": "f723c081-75dd-4cf8-b60f-29a4798d31e1",
   "metadata": {},
   "source": [
    "We see that in all, there are over 28 thousand games on Speedrun.com! With the IDs we can now pull and store all the data we need. Here is the dataframe we will use, and we collect data in the following categories:\n",
    "\n",
    "* Game: This is the international name of the game\n",
    "\n",
    "* Category: The category of the speedrun, which defines the leaderboard. A game can have multiple types of speedruns, such as beating the full game vs. a signle level, and the category differentiates these types. It can be split into further subcategories with the values.\n",
    "\n",
    "* Run Time: The length of the speedrun, defined as whatever time is used for rankings on the leaderboard\n",
    "\n",
    "* Date: The date the speedrun was submitted (not always present)\n",
    "\n",
    "* Values: Set of aspects of a run that can put it in a subcategory, such as using glitches vs. glitchless. Only present if it creates a subcategory\n",
    "\n",
    "* Game ID, Cat ID: Unique identifiers the API uses for finding games and categories\n",
    "\n",
    "Note that the API returns runs that are current to the date of data collection, so future runs of data collection may look different as it will include runs which did not exist at the time I collected. "
   ]
  },
  {
   "cell_type": "code",
   "execution_count": 4,
   "id": "4f802f5b-e67a-4fbb-8219-a4006a458dbe",
   "metadata": {},
   "outputs": [],
   "source": [
    "df = pd.DataFrame(columns = ['Game','Category','Run Time','Date','Values', 'Game ID', 'Cat ID'])"
   ]
  },
  {
   "cell_type": "markdown",
   "id": "01fa6a41-9b98-44f9-8867-176ecdbc82ca",
   "metadata": {},
   "source": [
    "Finally, we use our game IDs to collect the data! For each game, we collect every *verified* run that was ever submitted to a leaderboard. This means no runs that were rejected. This also means we are essentially collecting the entire speedrun history of a game. "
   ]
  },
  {
   "cell_type": "code",
   "execution_count": 5,
   "id": "78257e0a-dd3e-4e72-96a3-7b0fc29ec937",
   "metadata": {},
   "outputs": [
    {
     "data": {
      "text/html": [
       "<div>\n",
       "<style scoped>\n",
       "    .dataframe tbody tr th:only-of-type {\n",
       "        vertical-align: middle;\n",
       "    }\n",
       "\n",
       "    .dataframe tbody tr th {\n",
       "        vertical-align: top;\n",
       "    }\n",
       "\n",
       "    .dataframe thead th {\n",
       "        text-align: right;\n",
       "    }\n",
       "</style>\n",
       "<table border=\"1\" class=\"dataframe\">\n",
       "  <thead>\n",
       "    <tr style=\"text-align: right;\">\n",
       "      <th></th>\n",
       "      <th>Game</th>\n",
       "      <th>Category</th>\n",
       "      <th>Run Time</th>\n",
       "      <th>Date</th>\n",
       "      <th>Values</th>\n",
       "      <th>Game ID</th>\n",
       "      <th>Cat ID</th>\n",
       "    </tr>\n",
       "  </thead>\n",
       "  <tbody>\n",
       "    <tr>\n",
       "      <th>0</th>\n",
       "      <td>Bibi &amp; Tina: New Adventures With Horses</td>\n",
       "      <td>Main Missions</td>\n",
       "      <td>3531.0</td>\n",
       "      <td>2022-04-21</td>\n",
       "      <td>set()</td>\n",
       "      <td>ldej22j1</td>\n",
       "      <td>wdmm094d</td>\n",
       "    </tr>\n",
       "    <tr>\n",
       "      <th>1</th>\n",
       "      <td>Bibi &amp; Tina: New Adventures With Horses</td>\n",
       "      <td>Main Missions</td>\n",
       "      <td>3482.0</td>\n",
       "      <td>2022-04-22</td>\n",
       "      <td>set()</td>\n",
       "      <td>ldej22j1</td>\n",
       "      <td>wdmm094d</td>\n",
       "    </tr>\n",
       "    <tr>\n",
       "      <th>2</th>\n",
       "      <td>Bibi &amp; Tina: New Adventures With Horses</td>\n",
       "      <td>Main Missions</td>\n",
       "      <td>3396.0</td>\n",
       "      <td>2022-04-23</td>\n",
       "      <td>set()</td>\n",
       "      <td>ldej22j1</td>\n",
       "      <td>wdmm094d</td>\n",
       "    </tr>\n",
       "    <tr>\n",
       "      <th>3</th>\n",
       "      <td>Bibi &amp; Tina: New Adventures With Horses</td>\n",
       "      <td>Main Missions</td>\n",
       "      <td>3346.0</td>\n",
       "      <td>2022-04-26</td>\n",
       "      <td>set()</td>\n",
       "      <td>ldej22j1</td>\n",
       "      <td>wdmm094d</td>\n",
       "    </tr>\n",
       "    <tr>\n",
       "      <th>4</th>\n",
       "      <td>Burger &amp; Frights</td>\n",
       "      <td>Any%</td>\n",
       "      <td>906.0</td>\n",
       "      <td>2021-09-01</td>\n",
       "      <td>set()</td>\n",
       "      <td>3698y4ld</td>\n",
       "      <td>zdnzx59d</td>\n",
       "    </tr>\n",
       "    <tr>\n",
       "      <th>...</th>\n",
       "      <td>...</td>\n",
       "      <td>...</td>\n",
       "      <td>...</td>\n",
       "      <td>...</td>\n",
       "      <td>...</td>\n",
       "      <td>...</td>\n",
       "      <td>...</td>\n",
       "    </tr>\n",
       "    <tr>\n",
       "      <th>2580131</th>\n",
       "      <td>暖雪 Warm Snow</td>\n",
       "      <td>White Ash% NMG</td>\n",
       "      <td>1045.0</td>\n",
       "      <td>2022-04-19</td>\n",
       "      <td>set()</td>\n",
       "      <td>v1pxz946</td>\n",
       "      <td>ndxnwvvk</td>\n",
       "    </tr>\n",
       "    <tr>\n",
       "      <th>2580132</th>\n",
       "      <td>暖雪 Warm Snow</td>\n",
       "      <td>Fresh File% NMG</td>\n",
       "      <td>2569.0</td>\n",
       "      <td>2022-02-10</td>\n",
       "      <td>set()</td>\n",
       "      <td>v1pxz946</td>\n",
       "      <td>vdoy5my2</td>\n",
       "    </tr>\n",
       "    <tr>\n",
       "      <th>2580133</th>\n",
       "      <td>暖雪 Warm Snow</td>\n",
       "      <td>Fresh File% NMG</td>\n",
       "      <td>2351.0</td>\n",
       "      <td>2022-04-21</td>\n",
       "      <td>set()</td>\n",
       "      <td>v1pxz946</td>\n",
       "      <td>vdoy5my2</td>\n",
       "    </tr>\n",
       "    <tr>\n",
       "      <th>2580134</th>\n",
       "      <td>暖雪 Warm Snow</td>\n",
       "      <td>Fresh File% NMG</td>\n",
       "      <td>1676.0</td>\n",
       "      <td>2022-04-21</td>\n",
       "      <td>set()</td>\n",
       "      <td>v1pxz946</td>\n",
       "      <td>vdoy5my2</td>\n",
       "    </tr>\n",
       "    <tr>\n",
       "      <th>2580135</th>\n",
       "      <td>鬼神童子ZENKI</td>\n",
       "      <td>Any%</td>\n",
       "      <td>1390.0</td>\n",
       "      <td>2021-08-10</td>\n",
       "      <td>set()</td>\n",
       "      <td>9d387701</td>\n",
       "      <td>5dw180ek</td>\n",
       "    </tr>\n",
       "  </tbody>\n",
       "</table>\n",
       "<p>2580136 rows × 7 columns</p>\n",
       "</div>"
      ],
      "text/plain": [
       "                                             Game         Category  Run Time  \\\n",
       "0         Bibi & Tina: New Adventures With Horses    Main Missions    3531.0   \n",
       "1         Bibi & Tina: New Adventures With Horses    Main Missions    3482.0   \n",
       "2         Bibi & Tina: New Adventures With Horses    Main Missions    3396.0   \n",
       "3         Bibi & Tina: New Adventures With Horses    Main Missions    3346.0   \n",
       "4                                Burger & Frights             Any%     906.0   \n",
       "...                                           ...              ...       ...   \n",
       "2580131                              暖雪 Warm Snow   White Ash% NMG    1045.0   \n",
       "2580132                              暖雪 Warm Snow  Fresh File% NMG    2569.0   \n",
       "2580133                              暖雪 Warm Snow  Fresh File% NMG    2351.0   \n",
       "2580134                              暖雪 Warm Snow  Fresh File% NMG    1676.0   \n",
       "2580135                                 鬼神童子ZENKI             Any%    1390.0   \n",
       "\n",
       "              Date Values   Game ID    Cat ID  \n",
       "0       2022-04-21  set()  ldej22j1  wdmm094d  \n",
       "1       2022-04-22  set()  ldej22j1  wdmm094d  \n",
       "2       2022-04-23  set()  ldej22j1  wdmm094d  \n",
       "3       2022-04-26  set()  ldej22j1  wdmm094d  \n",
       "4       2021-09-01  set()  3698y4ld  zdnzx59d  \n",
       "...            ...    ...       ...       ...  \n",
       "2580131 2022-04-19  set()  v1pxz946  ndxnwvvk  \n",
       "2580132 2022-02-10  set()  v1pxz946  vdoy5my2  \n",
       "2580133 2022-04-21  set()  v1pxz946  vdoy5my2  \n",
       "2580134 2022-04-21  set()  v1pxz946  vdoy5my2  \n",
       "2580135 2021-08-10  set()  9d387701  5dw180ek  \n",
       "\n",
       "[2580136 rows x 7 columns]"
      ]
     },
     "execution_count": 5,
     "metadata": {},
     "output_type": "execute_result"
    }
   ],
   "source": [
    "#game_IDs = ['j1npme6p']\n",
    "path = os.getcwd()\n",
    "path += '/FinalData(2)'\n",
    "# If data is already in directory, load that\n",
    "if os.path.isfile(path):\n",
    "    df = pd.read_csv('FinalData(2)')\n",
    "    df.drop('Unnamed: 0', axis=1, inplace=True)\n",
    "# Else, collect the data\n",
    "else:\n",
    "    maxim = 200 # Max number of runs we pull at a time, 200 is maximum allowed\n",
    "    sec = 15 # Cooldown time for when \n",
    "    track = 0\n",
    "    # Extracts all runs for each game, stores them in df\n",
    "    # Currently accounting for crash!!! Starting from where it crashed\n",
    "    for game_ID in tqdm(game_IDs):\n",
    "        # Every 100 games save the dataframe to disk\n",
    "        track += 1\n",
    "        if track % 500 == 0:\n",
    "            cwd = os.getcwd()\n",
    "            path = cwd + \"/DataV\" + str(track/500)\n",
    "            df.to_csv(path)\n",
    "        same = ''\n",
    "        # Get info about game, categories, and variables\n",
    "        URL = 'https://www.speedrun.com/api/v1/games/' + str(game_ID) + '?embed=categories.variables'\n",
    "        response = requests.get(URL,init_headers)\n",
    "        data = response.json() # This has failed exactly once for reasons unknown\n",
    "\n",
    "        try:\n",
    "            data = data['data']\n",
    "        except:\n",
    "            # Occurs if we get a throttling error. We wait 15 seconds then try again.\n",
    "            if 'status' in data and data['status'] == 420:\n",
    "                while 'status' in data and data['status'] == 420:\n",
    "                    time.sleep(sec)\n",
    "                    response = requests.get(URL,init_headers)\n",
    "                    data = response.json()\n",
    "                data = data['data']\n",
    "            else:\n",
    "                # If other error, print and move on\n",
    "                # The only error in my case was a game not being found, presumably being deleted between pulling the game and pulling the runs\n",
    "                print('1b')\n",
    "                print(data)\n",
    "                continue\n",
    "        game = data['names']['international']\n",
    "        cats = data['categories']['data']\n",
    "\n",
    "        # Finds all the runs for each category\n",
    "        for categ in cats:\n",
    "            cat = categ['id'] # Category ID\n",
    "            cat_name = categ['name'] # Category Name\n",
    "            offset = 0\n",
    "            dir = 'asc'\n",
    "            fin = ''\n",
    "            sub_categories = [] # Collection of the variables that define subcategories\n",
    "            all_vars = categ['variables']['data'] # Collects all variables of a run\n",
    "\n",
    "            for var in all_vars:\n",
    "                if var['is-subcategory']:\n",
    "                    sub_categories.append(var['values']['values'])\n",
    "            sub_keys = {}\n",
    "            for s in sub_categories:\n",
    "                # Assumed no two sub-categories in the same category will have the same variable ID\n",
    "                temp_dict = dict(s)\n",
    "                for t in temp_dict.keys():\n",
    "                    temp_dict[t] = temp_dict[t]['label']\n",
    "                sub_keys.update(temp_dict)\n",
    "\n",
    "\n",
    "            # Collect data on every run. \n",
    "            while(True):\n",
    "                # Asks API for verified runs from this category, ordered by date submitted\n",
    "                URL = 'https://www.speedrun.com/api/v1/runs?game=' + str(game_ID) + '&category=' + str(cat) + '&orderby=submitted&direction=' + str(dir) + '&status=verified&max=' + str(maxim) + '&offset=' + str(offset)\n",
    "                response = requests.get(URL,init_headers)\n",
    "                data2 = response.json()\n",
    "                try:\n",
    "                    data2 = data2['data']\n",
    "                except:\n",
    "                    # Throttling error. Wait 15 seconds and try again.\n",
    "                    if 'status' in data2 and data2['status'] == 420:\n",
    "                        while 'status' in data2 and data2['status'] == 420:\n",
    "                            time.sleep(sec)\n",
    "                            response = requests.get(URL,init_headers)\n",
    "                            data2 = response.json()\n",
    "                        data2 = data2['data']\n",
    "                    elif 'times' in data2:\n",
    "                        data2 = data2\n",
    "                    else:\n",
    "                        # If other error, print and move on\n",
    "                        print(2)\n",
    "                        print(data2)\n",
    "                        continue\n",
    "\n",
    "\n",
    "                for run in data2:\n",
    "                    # Add game, category, time, date, and options\n",
    "                    sub_cat = set()\n",
    "                    # We store the label of the subcategory for ease of reading\n",
    "                    for var in run['values'].values():\n",
    "                        if var in sub_keys:\n",
    "                            sub_cat.add(sub_keys[var])\n",
    "                    df.loc[len(df.index)] = [game, cat_name, run['times']['primary_t'], run['date'], sub_cat, game_ID, cat]\n",
    "\n",
    "\n",
    "                # If length of collected data is smaller than maximum we can collect, we're at the end of the list and break\n",
    "                if len(data2) < maxim:\n",
    "                    break\n",
    "\n",
    "                # Need to work from the back of the list if the offset is more than 10k (known bug)\n",
    "                if offset + maxim >= 10000:\n",
    "                    fin = data2[-1]\n",
    "                    dir = 'desc'\n",
    "                    offset = 0\n",
    "                    continue\n",
    "\n",
    "                # If we're working backwords and find the run we ended on going forward, we've found all runs and break\n",
    "                if dir == 'desc' and fin in data2:\n",
    "                    dir = 'asc'\n",
    "                    fin = ''\n",
    "                    break\n",
    "\n",
    "                # If we collect 0 runs we break immediately (happens when no runs in category)\n",
    "                if(len(data2) == 0):\n",
    "                    break\n",
    "\n",
    "                offset += maxim\n",
    "# Convert the dates from a string to a datetime object    \n",
    "def time_convert(x):\n",
    "        if pd.isna(x):\n",
    "            return np.nan\n",
    "        try:\n",
    "            return datetime.strptime(x, '%Y-%m-%d')\n",
    "        except:\n",
    "            try:\n",
    "                return datetime.strptime(x, '%Y-%m-%d')\n",
    "            except:\n",
    "                print(type(x))\n",
    "\n",
    "df['Date'] = [time_convert(x) for x in df['Date']]\n",
    "df"
   ]
  },
  {
   "cell_type": "markdown",
   "id": "a31721fa-a984-4bd4-9c63-fbf39240ba1a",
   "metadata": {},
   "source": [
    "Do note how the Run Time column is in seconds. We've collected over 2.5 million runs! Now we want to convert the dates column from strings to datetime objects"
   ]
  },
  {
   "cell_type": "markdown",
   "id": "59644565-06bf-4910-9644-935a173b87eb",
   "metadata": {},
   "source": [
    "After collecting this data, I realized the genre of a game may be interesting for this analysis, and so we add that to our data as well. "
   ]
  },
  {
   "cell_type": "code",
   "execution_count": null,
   "id": "8e1d7d17-6a37-4126-828f-20d136ee6fcb",
   "metadata": {},
   "outputs": [],
   "source": []
  },
  {
   "cell_type": "code",
   "execution_count": null,
   "id": "b461f593-8bcd-41f2-8ddb-7ebd0ab672ff",
   "metadata": {},
   "outputs": [],
   "source": []
  },
  {
   "cell_type": "markdown",
   "id": "fb6c0a50-bbd7-43e8-9ce7-cea7d1017b23",
   "metadata": {},
   "source": [
    "I realized the current world record at the day the run was made could be important for an analysis, as it is commonly known that how challenging a world record is to achieve has a big impact in the motivation to break it, and thus possibly increase the number of runs. "
   ]
  },
  {
   "cell_type": "markdown",
   "id": "2335b1cc-d8ba-42be-888b-380abb6955e6",
   "metadata": {},
   "source": [
    "# Exploratory Data Analysis"
   ]
  },
  {
   "cell_type": "markdown",
   "id": "f1be0569-c5ee-4274-91a0-dcd50ef0f77e",
   "metadata": {},
   "source": [
    "First, let's plot the number of speedruns that were uploaded approximately every month, for the runs which do have a date. "
   ]
  },
  {
   "cell_type": "code",
   "execution_count": 6,
   "id": "78f2acd9-d923-4d6f-93b7-ec614d976268",
   "metadata": {},
   "outputs": [],
   "source": [
    "# Split range of dates in to approximately 1 month bins\n",
    "bins = int(round((max(df['Date'])-min(df['Date']))/timedelta(weeks = 4.345),0))"
   ]
  },
  {
   "cell_type": "markdown",
   "id": "91e28141-dedc-4124-a1a8-b3f7b352af78",
   "metadata": {},
   "source": [
    "Note: There is one date in the set which appears wrong (stating it appears several decades before Speedrun.com existed), and so we will replace it with an interpolated date from the "
   ]
  },
  {
   "cell_type": "code",
   "execution_count": 7,
   "id": "f10888ab-7d38-4262-bfca-bb235d2ebc48",
   "metadata": {},
   "outputs": [
    {
     "name": "stdout",
     "output_type": "stream",
     "text": [
      "605\n"
     ]
    }
   ],
   "source": [
    "print(bins)"
   ]
  },
  {
   "cell_type": "markdown",
   "id": "cb87d160-e9a3-4d43-9b2e-7d0eb74cef27",
   "metadata": {},
   "source": [
    "We see we have about 605 months worth of runs, now we can split the data between these months. "
   ]
  },
  {
   "cell_type": "code",
   "execution_count": 8,
   "id": "b0fe8418-3191-44a8-ae7c-ae343d5d31c2",
   "metadata": {},
   "outputs": [],
   "source": [
    "# Cut data into the bins based on submission date\n",
    "df['Date_Cut'] = pd.cut(df.Date, bins = bins)\n",
    "# We don't need to know full interval for graphing, take left endpoints\n",
    "def relabel(x):\n",
    "    if pd.isna(x):\n",
    "        return np.nan\n",
    "    else:\n",
    "        return x.left\n",
    "\n",
    "df['Date_Cut'] = [relabel(x) for x in df['Date_Cut']]"
   ]
  },
  {
   "cell_type": "markdown",
   "id": "c8cf1853-add6-4545-82d4-78e586392ac5",
   "metadata": {},
   "source": [
    "Finally, we plotthe runs as a bar chart, with a bar for each month. "
   ]
  },
  {
   "cell_type": "code",
   "execution_count": 9,
   "id": "3ee273df-d3b2-4b88-95cc-d6e4b30a7d91",
   "metadata": {},
   "outputs": [
    {
     "data": {
      "image/png": "[encoded data removed]",
      "text/plain": [
       "<Figure size 432x288 with 1 Axes>"
      ]
     },
     "metadata": {
      "needs_background": "light"
     },
     "output_type": "display_data"
    }
   ],
   "source": [
    "# Count how many runs fall in each of the cuts\n",
    "counts = df['Date_Cut'].value_counts()\n",
    "counts = dict(counts)\n",
    "# Plot these counts\n",
    "plt.bar(*zip(*counts.items()), width = 30)\n",
    "plt.title('Runs Submitted to Speedrun.Com')\n",
    "plt.xlabel('Date Submitted')\n",
    "plt.ylabel('Number of runs submitted')\n",
    "plt.show()"
   ]
  },
  {
   "cell_type": "markdown",
   "id": "74c7db7d-c85e-400a-92e0-bad704dabf98",
   "metadata": {},
   "source": [
    "Wow! This graph has several things which jump out, such as how there are somehow runs which stretch back to the 70's. We can note though how there are virtually no runs visible at this scale until 2005 or so, so let's graph from there. Speedrun.com didn't exist until 2014, so let's consider runs which were submitted from the start of that year"
   ]
  },
  {
   "cell_type": "code",
   "execution_count": 139,
   "id": "fce89a55-9f23-48bc-ac24-a59954fe79e3",
   "metadata": {},
   "outputs": [
    {
     "data": {
      "image/png": "[encoded data removed]",
      "text/plain": [
       "<Figure size 432x288 with 1 Axes>"
      ]
     },
     "metadata": {
      "needs_background": "light"
     },
     "output_type": "display_data"
    }
   ],
   "source": [
    "# Subset of more recent data\n",
    "rec = df[df['Date']  >= '01-01-14']\n",
    "\n",
    "# Count how many runs fall in each of the cuts\n",
    "tot_counts = rec['Date_Cut'].value_counts()\n",
    "tot_counts = dict(tot_counts)\n",
    "# Plot these counts\n",
    "plt.bar(*zip(*tot_counts.items()), width = 31)\n",
    "plt.title('Runs Submitted to Speedrun.Com')\n",
    "plt.xlabel('Date Submitted')\n",
    "plt.ylabel('Number of runs submitted')\n",
    "plt.show()"
   ]
  },
  {
   "cell_type": "markdown",
   "id": "886a4bd9-129a-46f7-b43e-d8f5867c580d",
   "metadata": {},
   "source": [
    "We see a rather large spike in 2020, that increases so rapidly it could be exponential. We can test this theory with a graph with a logarithmic y-axis:"
   ]
  },
  {
   "cell_type": "code",
   "execution_count": 179,
   "id": "4a3cc520-7d89-4031-b351-216086818446",
   "metadata": {},
   "outputs": [
    {
     "data": {
      "image/png": "[encoded data removed]",
      "text/plain": [
       "<Figure size 432x288 with 1 Axes>"
      ]
     },
     "metadata": {
      "needs_background": "light"
     },
     "output_type": "display_data"
    }
   ],
   "source": [
    "plt.bar(*zip(*tot_counts.items()), width = 31)\n",
    "plt.title('Runs Submitted to Speedrun.Com')\n",
    "plt.xlabel('Date Submitted')\n",
    "plt.yscale('log')\n",
    "plt.ylabel('Number of runs submitted (log scale)')\n",
    "plt.show()"
   ]
  },
  {
   "cell_type": "markdown",
   "id": "ab329365-06ae-4002-8de1-719f00739f7f",
   "metadata": {},
   "source": [
    "Look at that! We can see a nearly linear relationship with this scale, suggesting the number of runs submitted to Speedrun.com is approximately exponential. Let's do the same thing with Minecraft"
   ]
  },
  {
   "cell_type": "markdown",
   "id": "c41326ed-241d-49a3-9f0e-eac42b258432",
   "metadata": {},
   "source": [
    "At this scale, we can see an explosion in the speedrunning scene as a whole, starting gradually from 2014, slowing around 2018, before a huge and sustained spike in submitted speedruns in 2020. We can also see if this matches for Minecraft as well."
   ]
  },
  {
   "cell_type": "code",
   "execution_count": null,
   "id": "8a5a3430-ea34-4f5c-b316-2ecb6b8db4c5",
   "metadata": {},
   "outputs": [],
   "source": []
  },
  {
   "cell_type": "code",
   "execution_count": 142,
   "id": "9de4ab73-363d-4201-bc8c-5aabf419f088",
   "metadata": {},
   "outputs": [
    {
     "data": {
      "image/png": "[encoded data removed]",
      "text/plain": [
       "<Figure size 432x288 with 1 Axes>"
      ]
     },
     "metadata": {
      "needs_background": "light"
     },
     "output_type": "display_data"
    },
    {
     "data": {
      "image/png": "[encoded data removed]",
      "text/plain": [
       "<Figure size 432x288 with 1 Axes>"
      ]
     },
     "metadata": {
      "needs_background": "light"
     },
     "output_type": "display_data"
    }
   ],
   "source": [
    "# All runs with game ID associated with Minecraft: JE\n",
    "mine = rec[rec['Game ID'] == 'j1npme6p']\n",
    "\n",
    "# Count how many runs fall in each of the cuts\n",
    "counts = mine['Date_Cut'].value_counts()\n",
    "counts = dict(counts)\n",
    "# Plot these counts\n",
    "plt.bar(*zip(*counts.items()), width = 31)\n",
    "plt.title('Runs Submitted to Minecraft Leaderboards')\n",
    "plt.xlabel('Date Submitted')\n",
    "plt.ylabel('Number of runs submitted')\n",
    "plt.show()\n",
    "plt.bar(*zip(*counts.items()), width = 31)\n",
    "plt.title('Runs Submitted to Minecraft Leaderboards')\n",
    "plt.yscale('log')\n",
    "plt.xlabel('Date Submitted')\n",
    "plt.ylabel('Number of runs submitted')\n",
    "plt.show()"
   ]
  },
  {
   "cell_type": "markdown",
   "id": "6ad59280-ea30-4af5-a7bf-7fb7f7448e87",
   "metadata": {},
   "source": [
    "Here we can see why people believed Minecraft speedrunning really took off after quarantine began. We see a modest number of runs continuously submitted up until 2019, then a gradual growth through 2020, then an explosion going into 2021. However the log graph shows the key differences between Minecraft and the Speedrun.com as a whole. While we could draw a general linear trend from 2013 to 2020, it appears to be quite weak. More importantly, we see a huge spike starting in 2020 and going into 2021, even on the log graph. This suggests that Minecraft surged in popularity exceedingly much, compared to its earlier years. Further, we see a sharp decline starting in 2021 and leading into 2022. These last two features differ drastically from the results in the overall Speedrun.com. This suggests that Minecraft's speedrunning popularity is different from the site as a whole, and we can show this quantitatively with linear regressions."
   ]
  },
  {
   "cell_type": "markdown",
   "id": "a32c8379-7d34-4c4a-a88f-facbae193ac5",
   "metadata": {},
   "source": [
    "# Linear Regression"
   ]
  },
  {
   "cell_type": "markdown",
   "id": "ccd9bd6f-5c33-48e4-994c-1ca3f12755ef",
   "metadata": {},
   "source": [
    "We can use a linear regression to make an exponential fit of the Speedrun.com data by taking the log of the number of runs per month, then fitting a linear regression with respect to time. \n",
    "First, let's copy the data we want: the months and the number of runs in those months"
   ]
  },
  {
   "cell_type": "code",
   "execution_count": 143,
   "id": "3d6c6527-eb1d-41a5-a390-58b06346bc5d",
   "metadata": {},
   "outputs": [],
   "source": [
    "tot_freq = pd.DataFrame.from_dict([dict(tot_counts)]).melt()\n",
    "tot_freq.rename(columns = {'variable': 'Month', 'value': 'Count'}, inplace = True)\n",
    "# Take log\n",
    "log_count = {k: math.log(v) for k, v in counts.items()}\n",
    "#log_count = counts.apply(lambda x: math.log(x))\n",
    "tot_freq[\"Count\"] = tot_freq['Count'].apply(lambda x: math.log10(x))\n",
    "# Change how time is represented as datetime objects don't fit well with statsmodels\n",
    "copy = tot_freq['Month'].copy()\n",
    "tot_freq['Month']=mdates.date2num(tot_freq['Month'])\n",
    "X = tot_freq['Month']\n",
    "X = sm.add_constant(X)\n",
    "mod = sm.OLS(tot_freq['Count'], X)\n",
    "res = mod.fit()"
   ]
  },
  {
   "cell_type": "code",
   "execution_count": 144,
   "id": "35804c6f-eb9b-40f3-a946-0b52975b1cc7",
   "metadata": {},
   "outputs": [
    {
     "data": {
      "text/plain": [
       "const   -5.562301\n",
       "Month    0.000554\n",
       "dtype: float64"
      ]
     },
     "execution_count": 144,
     "metadata": {},
     "output_type": "execute_result"
    }
   ],
   "source": [
    "res.params"
   ]
  },
  {
   "cell_type": "code",
   "execution_count": 145,
   "id": "e3f4527c-7e16-4749-a154-416fcaffa504",
   "metadata": {},
   "outputs": [
    {
     "data": {
      "text/plain": [
       "const    7.883564e-34\n",
       "Month    2.025207e-54\n",
       "Name: P>|t|, dtype: float64"
      ]
     },
     "execution_count": 145,
     "metadata": {},
     "output_type": "execute_result"
    }
   ],
   "source": [
    "res.summary2().tables[1]['P>|t|']"
   ]
  },
  {
   "cell_type": "code",
   "execution_count": 146,
   "id": "288925d2-0f6a-4502-88a6-96b96232ebad",
   "metadata": {},
   "outputs": [
    {
     "data": {
      "image/png": "[encoded data removed]",
      "text/plain": [
       "<Figure size 432x288 with 2 Axes>"
      ]
     },
     "metadata": {
      "needs_background": "light"
     },
     "output_type": "display_data"
    }
   ],
   "source": [
    "tot_freq['res'] = res.resid\n",
    "tot_freq['fit'] = res.fittedvalues\n",
    "tot_freq['Month'] = copy\n",
    "tot_freq = tot_freq.sort_values(by = 'Month')\n",
    "fig,ax = plt.subplots()\n",
    "ax.bar(tot_freq['Month'], tot_freq['Count'], width = 31)\n",
    "plt.title('Runs Submitted to Speedrun.com')\n",
    "plt.xlabel('Date Submitted')\n",
    "plt.ylabel('Number of runs submitted (log$_{10}$)')\n",
    "ax2 = plt.twinx()\n",
    "ax2.set_ylim(ax.get_ylim())\n",
    "ax2.plot(tot_freq['Month'], tot_freq['fit'], color='r', label='Regression')\n",
    "plt.show()"
   ]
  },
  {
   "cell_type": "code",
   "execution_count": 147,
   "id": "b540b83e-8c7d-4377-96f7-2bb7c9d8c904",
   "metadata": {},
   "outputs": [
    {
     "data": {
      "text/plain": [
       "0.913492334019323"
      ]
     },
     "execution_count": 147,
     "metadata": {},
     "output_type": "execute_result"
    }
   ],
   "source": [
    "res.rsquared"
   ]
  },
  {
   "cell_type": "code",
   "execution_count": 148,
   "id": "b0b7e9aa-80f0-4d7e-8a45-54e6745d1a4f",
   "metadata": {},
   "outputs": [
    {
     "data": {
      "text/plain": [
       "0.023263681546275207"
      ]
     },
     "execution_count": 148,
     "metadata": {},
     "output_type": "execute_result"
    }
   ],
   "source": [
    "res.mse_resid"
   ]
  },
  {
   "cell_type": "code",
   "execution_count": 149,
   "id": "1809b39e-0b8e-41ab-b3cf-4f0e8be3c711",
   "metadata": {},
   "outputs": [
    {
     "data": {
      "text/plain": [
       "24.320021315512843"
      ]
     },
     "execution_count": 149,
     "metadata": {},
     "output_type": "execute_result"
    }
   ],
   "source": [
    "res.mse_model"
   ]
  },
  {
   "cell_type": "code",
   "execution_count": 150,
   "id": "d028e6e1-8af7-468f-a034-00809bb39de9",
   "metadata": {},
   "outputs": [
    {
     "data": {
      "text/plain": [
       "2.3031044730812456"
      ]
     },
     "execution_count": 150,
     "metadata": {},
     "output_type": "execute_result"
    }
   ],
   "source": [
    "res.ssr"
   ]
  },
  {
   "cell_type": "code",
   "execution_count": 151,
   "id": "81230519-69fd-4033-9955-7005f1717ae9",
   "metadata": {},
   "outputs": [],
   "source": [
    "freq = pd.DataFrame.from_dict([dict(counts)]).melt()\n",
    "freq.rename(columns = {'variable': 'Month', 'value': 'Count'}, inplace = True)\n",
    "# Take log\n",
    "log_count = {k: math.log(v) for k, v in counts.items()}\n",
    "#log_count = counts.apply(lambda x: math.log(x))\n",
    "freq[\"Count\"] = freq['Count'].apply(lambda x: math.log10(x))\n",
    "# Change how time is represented as datetime objects don't fit well with statsmodels\n",
    "copy = freq['Month'].copy()\n",
    "freq['Month']=mdates.date2num(freq['Month'])\n",
    "X = freq['Month']\n",
    "X = sm.add_constant(X)\n",
    "mod = sm.OLS(freq['Count'], X)\n",
    "res = mod.fit()"
   ]
  },
  {
   "cell_type": "code",
   "execution_count": 154,
   "id": "62e98a70-1e15-4bf6-b7af-9dce379e7cc6",
   "metadata": {},
   "outputs": [
    {
     "data": {
      "text/plain": [
       "const   -13.530621\n",
       "Month     0.000842\n",
       "dtype: float64"
      ]
     },
     "execution_count": 154,
     "metadata": {},
     "output_type": "execute_result"
    }
   ],
   "source": [
    "res.params"
   ]
  },
  {
   "cell_type": "code",
   "execution_count": 152,
   "id": "4688d7f3-21c6-4ce1-baa2-af9e899a3308",
   "metadata": {},
   "outputs": [
    {
     "data": {
      "image/png": "[encoded data removed]",
      "text/plain": [
       "<Figure size 432x288 with 2 Axes>"
      ]
     },
     "metadata": {
      "needs_background": "light"
     },
     "output_type": "display_data"
    }
   ],
   "source": [
    "freq['res'] = res.resid\n",
    "freq['fit'] = res.fittedvalues\n",
    "freq['Month'] = copy\n",
    "freq = freq.sort_values(by = 'Month')\n",
    "fig,ax = plt.subplots()\n",
    "plt.title('Runs Submitted to Minecraft Leaderboards')\n",
    "plt.xlabel('Date Submitted')\n",
    "plt.ylabel('Number of runs submitted (log$_{10}$)')\n",
    "ax.bar(freq['Month'], freq['Count'], width = 31)\n",
    "ax2 = plt.twinx()\n",
    "ax2.set_ylim(ax.get_ylim())\n",
    "ax2.plot(freq['Month'], freq['fit'], color='r', label='Regression')\n",
    "plt.show()"
   ]
  },
  {
   "cell_type": "markdown",
   "id": "30934386-90e3-4869-960d-d18dca40396b",
   "metadata": {},
   "source": [
    "We see it roughly follows the data, let's look at the p-values:"
   ]
  },
  {
   "cell_type": "code",
   "execution_count": 155,
   "id": "8d6efc5c-5fe0-4965-97bb-984dd68cae74",
   "metadata": {},
   "outputs": [
    {
     "data": {
      "text/plain": [
       "const    8.032060e-21\n",
       "Month    3.208438e-23\n",
       "Name: P>|t|, dtype: float64"
      ]
     },
     "execution_count": 155,
     "metadata": {},
     "output_type": "execute_result"
    }
   ],
   "source": [
    "res.summary2().tables[1]['P>|t|']"
   ]
  },
  {
   "cell_type": "markdown",
   "id": "2d4ed919-3dc9-49f8-a039-80973b3cc79d",
   "metadata": {},
   "source": [
    "These are miniscule, showing there is certainly a relationship between number of speedruns and time. However these values are quite different than those of the overall speedrunning community (STANDARDIZE BOTH AND COMPARE) so there must be something about minecraft affecting its results"
   ]
  },
  {
   "cell_type": "code",
   "execution_count": 156,
   "id": "4724f19a-b352-4c4c-bd5f-b34cd173bd44",
   "metadata": {},
   "outputs": [
    {
     "data": {
      "text/plain": [
       "53.560719204703645"
      ]
     },
     "execution_count": 156,
     "metadata": {},
     "output_type": "execute_result"
    }
   ],
   "source": [
    "res.mse_model"
   ]
  },
  {
   "cell_type": "code",
   "execution_count": 157,
   "id": "c2590d88-80d0-43e7-873c-2f84b2867d2b",
   "metadata": {},
   "outputs": [
    {
     "data": {
      "text/plain": [
       "0.6472904994983575"
      ]
     },
     "execution_count": 157,
     "metadata": {},
     "output_type": "execute_result"
    }
   ],
   "source": [
    "res.rsquared"
   ]
  },
  {
   "cell_type": "code",
   "execution_count": 158,
   "id": "c99e707b-de3d-4040-ad1b-b536a225cec5",
   "metadata": {},
   "outputs": [
    {
     "data": {
      "text/plain": [
       "29.185310972183814"
      ]
     },
     "execution_count": 158,
     "metadata": {},
     "output_type": "execute_result"
    }
   ],
   "source": [
    "res.ssr"
   ]
  },
  {
   "cell_type": "markdown",
   "id": "a66ef508-6128-4eee-8181-5026cd2c5607",
   "metadata": {},
   "source": [
    "There must be another variable involved that explains Minecraft's surge and decline in runs. While quarantine obviously played a part, I suggest another variable which boosted Minecraft only until its peak: Dream. To summarize, Dream is a very popular Minecraft Youtuber who, from 2019 through 2020, was Minecraft's most popular speedrunner. However, in December of 2020 it was found that [Dream had cheated](https://mcspeedrun.com/dream.pdf) on his speedruns leading to him publically disavowing the community on Speedrun.com. We can notice how close December 2020 is to the peak we see of Minecraft speedrunning, so perhaps this could be an explantory variable. "
   ]
  },
  {
   "cell_type": "markdown",
   "id": "61078257-cd57-417c-b7e9-ffc96ea4007d",
   "metadata": {},
   "source": [
    "Dream uploaded his [first world record](https://www.youtube.com/watch?v=CFkv6DtKf3w) on March 16, 2020, and the proof of his cheating were published on December 11, 2020. Thus we can consider time between these two to be \"peak dream influence.\" We can add whether a month occured between these two dates to our model."
   ]
  },
  {
   "cell_type": "code",
   "execution_count": 159,
   "id": "661333e7-2534-43ed-982a-00c26dbfa03a",
   "metadata": {},
   "outputs": [
    {
     "data": {
      "text/html": [
       "<div>\n",
       "<style scoped>\n",
       "    .dataframe tbody tr th:only-of-type {\n",
       "        vertical-align: middle;\n",
       "    }\n",
       "\n",
       "    .dataframe tbody tr th {\n",
       "        vertical-align: top;\n",
       "    }\n",
       "\n",
       "    .dataframe thead th {\n",
       "        text-align: right;\n",
       "    }\n",
       "</style>\n",
       "<table border=\"1\" class=\"dataframe\">\n",
       "  <thead>\n",
       "    <tr style=\"text-align: right;\">\n",
       "      <th></th>\n",
       "      <th>Month</th>\n",
       "      <th>Count</th>\n",
       "      <th>res</th>\n",
       "      <th>fit</th>\n",
       "      <th>Dream</th>\n",
       "    </tr>\n",
       "  </thead>\n",
       "  <tbody>\n",
       "    <tr>\n",
       "      <th>94</th>\n",
       "      <td>16078.661157</td>\n",
       "      <td>0.000000</td>\n",
       "      <td>-0.006438</td>\n",
       "      <td>0.006438</td>\n",
       "      <td>0</td>\n",
       "    </tr>\n",
       "    <tr>\n",
       "      <th>76</th>\n",
       "      <td>16109.054545</td>\n",
       "      <td>0.477121</td>\n",
       "      <td>0.445095</td>\n",
       "      <td>0.032027</td>\n",
       "      <td>0</td>\n",
       "    </tr>\n",
       "    <tr>\n",
       "      <th>90</th>\n",
       "      <td>16139.447934</td>\n",
       "      <td>0.301030</td>\n",
       "      <td>0.243414</td>\n",
       "      <td>0.057616</td>\n",
       "      <td>0</td>\n",
       "    </tr>\n",
       "    <tr>\n",
       "      <th>96</th>\n",
       "      <td>16169.841322</td>\n",
       "      <td>0.000000</td>\n",
       "      <td>-0.083205</td>\n",
       "      <td>0.083205</td>\n",
       "      <td>0</td>\n",
       "    </tr>\n",
       "    <tr>\n",
       "      <th>80</th>\n",
       "      <td>16200.234711</td>\n",
       "      <td>0.477121</td>\n",
       "      <td>0.368327</td>\n",
       "      <td>0.108794</td>\n",
       "      <td>0</td>\n",
       "    </tr>\n",
       "  </tbody>\n",
       "</table>\n",
       "</div>"
      ],
      "text/plain": [
       "           Month     Count       res       fit  Dream\n",
       "94  16078.661157  0.000000 -0.006438  0.006438      0\n",
       "76  16109.054545  0.477121  0.445095  0.032027      0\n",
       "90  16139.447934  0.301030  0.243414  0.057616      0\n",
       "96  16169.841322  0.000000 -0.083205  0.083205      0\n",
       "80  16200.234711  0.477121  0.368327  0.108794      0"
      ]
     },
     "execution_count": 159,
     "metadata": {},
     "output_type": "execute_result"
    }
   ],
   "source": [
    "freq['Month']=mdates.date2num(freq['Month'])\n",
    "start = mdates.datestr2num('03/16/2020')\n",
    "#mdates.date2num(freq['Month']) 'Mar 16, 2020'\n",
    "end = mdates.datestr2num('12/11/2020')\n",
    "freq['Dream'] = freq['Month'].between(start,end)\n",
    "freq['Dream'] = freq['Dream'].apply(lambda x: 1 if x else 0)\n",
    "freq.head()"
   ]
  },
  {
   "cell_type": "markdown",
   "id": "819dcd2f-2ec6-4613-8e31-5c7056104831",
   "metadata": {},
   "source": [
    "We want to add an interaction term, as we are suggesting that the growth of speedrunning with respect to time changed when dream was popular."
   ]
  },
  {
   "cell_type": "code",
   "execution_count": 160,
   "id": "1b097f69-bdff-4e28-9647-455f98262868",
   "metadata": {},
   "outputs": [
    {
     "data": {
      "text/html": [
       "<div>\n",
       "<style scoped>\n",
       "    .dataframe tbody tr th:only-of-type {\n",
       "        vertical-align: middle;\n",
       "    }\n",
       "\n",
       "    .dataframe tbody tr th {\n",
       "        vertical-align: top;\n",
       "    }\n",
       "\n",
       "    .dataframe thead th {\n",
       "        text-align: right;\n",
       "    }\n",
       "</style>\n",
       "<table border=\"1\" class=\"dataframe\">\n",
       "  <thead>\n",
       "    <tr style=\"text-align: right;\">\n",
       "      <th></th>\n",
       "      <th>Intercept</th>\n",
       "      <th>Month</th>\n",
       "      <th>Dream</th>\n",
       "      <th>Month:Dream</th>\n",
       "    </tr>\n",
       "  </thead>\n",
       "  <tbody>\n",
       "    <tr>\n",
       "      <th>94</th>\n",
       "      <td>1.0</td>\n",
       "      <td>16078.661157</td>\n",
       "      <td>0.0</td>\n",
       "      <td>0.0</td>\n",
       "    </tr>\n",
       "    <tr>\n",
       "      <th>76</th>\n",
       "      <td>1.0</td>\n",
       "      <td>16109.054545</td>\n",
       "      <td>0.0</td>\n",
       "      <td>0.0</td>\n",
       "    </tr>\n",
       "    <tr>\n",
       "      <th>90</th>\n",
       "      <td>1.0</td>\n",
       "      <td>16139.447934</td>\n",
       "      <td>0.0</td>\n",
       "      <td>0.0</td>\n",
       "    </tr>\n",
       "    <tr>\n",
       "      <th>96</th>\n",
       "      <td>1.0</td>\n",
       "      <td>16169.841322</td>\n",
       "      <td>0.0</td>\n",
       "      <td>0.0</td>\n",
       "    </tr>\n",
       "    <tr>\n",
       "      <th>80</th>\n",
       "      <td>1.0</td>\n",
       "      <td>16200.234711</td>\n",
       "      <td>0.0</td>\n",
       "      <td>0.0</td>\n",
       "    </tr>\n",
       "  </tbody>\n",
       "</table>\n",
       "</div>"
      ],
      "text/plain": [
       "    Intercept         Month  Dream  Month:Dream\n",
       "94        1.0  16078.661157    0.0          0.0\n",
       "76        1.0  16109.054545    0.0          0.0\n",
       "90        1.0  16139.447934    0.0          0.0\n",
       "96        1.0  16169.841322    0.0          0.0\n",
       "80        1.0  16200.234711    0.0          0.0"
      ]
     },
     "execution_count": 160,
     "metadata": {},
     "output_type": "execute_result"
    }
   ],
   "source": [
    "y,X = dmatrices('Count ~ Month*Dream',freq, return_type = 'dataframe')\n",
    "y = np.ravel(y)\n",
    "X.head()"
   ]
  },
  {
   "cell_type": "markdown",
   "id": "dca7b1a2-9e26-4f88-95e1-ec98650ab95b",
   "metadata": {},
   "source": [
    "Now we fit the model"
   ]
  },
  {
   "cell_type": "code",
   "execution_count": 161,
   "id": "04920352-8b2e-4e9c-ae00-9330e2a4fd7d",
   "metadata": {},
   "outputs": [],
   "source": [
    "mod = sm.OLS(y,X)\n",
    "fit = mod.fit()"
   ]
  },
  {
   "cell_type": "code",
   "execution_count": 162,
   "id": "f0a82f02-861d-43bc-b374-2492e356752f",
   "metadata": {},
   "outputs": [
    {
     "data": {
      "text/plain": [
       "Intercept     -12.196165\n",
       "Month           0.000762\n",
       "Dream         -35.893774\n",
       "Month:Dream     0.001983\n",
       "dtype: float64"
      ]
     },
     "execution_count": 162,
     "metadata": {},
     "output_type": "execute_result"
    }
   ],
   "source": [
    "fit.params"
   ]
  },
  {
   "cell_type": "code",
   "execution_count": 166,
   "id": "608b0135-e12b-42f2-a297-d403ff28379f",
   "metadata": {},
   "outputs": [
    {
     "data": {
      "image/png": "[encoded data removed]",
      "text/plain": [
       "<Figure size 432x288 with 2 Axes>"
      ]
     },
     "metadata": {
      "needs_background": "light"
     },
     "output_type": "display_data"
    }
   ],
   "source": [
    "freq['res'] = fit.resid\n",
    "freq['fit'] = fit.fittedvalues\n",
    "freq['Month'] = copy\n",
    "freq = freq.sort_values(by = 'Month')\n",
    "fig,ax = plt.subplots()\n",
    "ax.bar(freq['Month'], freq['Count'], width = 31)\n",
    "ax2 = plt.twinx()\n",
    "ax2.set_ylim(ax.get_ylim())\n",
    "ax2.plot(freq['Month'], freq['fit'], color='k', label='Regression')\n",
    "plt.show()"
   ]
  },
  {
   "cell_type": "code",
   "execution_count": 167,
   "id": "09114e89-aefe-4056-bd0c-99398d56de3e",
   "metadata": {},
   "outputs": [
    {
     "data": {
      "text/plain": [
       "Intercept      1.069543e-18\n",
       "Month          6.716696e-21\n",
       "Dream          3.788544e-01\n",
       "Month:Dream    3.690292e-01\n",
       "Name: P>|t|, dtype: float64"
      ]
     },
     "execution_count": 167,
     "metadata": {},
     "output_type": "execute_result"
    }
   ],
   "source": [
    "fit.summary2().tables[1]['P>|t|']"
   ]
  },
  {
   "cell_type": "markdown",
   "id": "e7d6ccf4-4f8d-48bb-9dc0-6cab888c817f",
   "metadata": {},
   "source": [
    "These p-values suggest the dream sweetspot is significant! but what if we also added the 5 month period before Dream admitted to cheating?This is the period after he was caught cheating, before he [admitted to it](https://www.looper.com/432321/dreams-minecraft-speedrun-cheating-scandal-explained/) on May 30, 2021."
   ]
  },
  {
   "cell_type": "code",
   "execution_count": null,
   "id": "faf0b5d4-2528-4537-9a7e-36ed01de4454",
   "metadata": {},
   "outputs": [],
   "source": []
  },
  {
   "cell_type": "markdown",
   "id": "9ba326f9-e27d-4adf-bfbc-b17fad14c440",
   "metadata": {},
   "source": [
    "Let's also plot the residuals"
   ]
  },
  {
   "cell_type": "code",
   "execution_count": null,
   "id": "b87320a0-a39f-44c8-bc3c-c8bf833e1593",
   "metadata": {},
   "outputs": [],
   "source": []
  },
  {
   "cell_type": "code",
   "execution_count": 169,
   "id": "c26bc587-b7a8-4b0c-a4ea-9b15950d0805",
   "metadata": {},
   "outputs": [],
   "source": [
    "#We see"
   ]
  },
  {
   "cell_type": "code",
   "execution_count": 170,
   "id": "36627f15-aa40-4837-8709-01bf6ea56513",
   "metadata": {},
   "outputs": [
    {
     "data": {
      "text/html": [
       "<div>\n",
       "<style scoped>\n",
       "    .dataframe tbody tr th:only-of-type {\n",
       "        vertical-align: middle;\n",
       "    }\n",
       "\n",
       "    .dataframe tbody tr th {\n",
       "        vertical-align: top;\n",
       "    }\n",
       "\n",
       "    .dataframe thead th {\n",
       "        text-align: right;\n",
       "    }\n",
       "</style>\n",
       "<table border=\"1\" class=\"dataframe\">\n",
       "  <thead>\n",
       "    <tr style=\"text-align: right;\">\n",
       "      <th></th>\n",
       "      <th>Month</th>\n",
       "      <th>Count</th>\n",
       "      <th>res</th>\n",
       "      <th>fit</th>\n",
       "      <th>Dream</th>\n",
       "      <th>Cheat</th>\n",
       "    </tr>\n",
       "  </thead>\n",
       "  <tbody>\n",
       "    <tr>\n",
       "      <th>94</th>\n",
       "      <td>16078.661157</td>\n",
       "      <td>0.000000</td>\n",
       "      <td>-0.058446</td>\n",
       "      <td>0.058446</td>\n",
       "      <td>0</td>\n",
       "      <td>0</td>\n",
       "    </tr>\n",
       "    <tr>\n",
       "      <th>76</th>\n",
       "      <td>16109.054545</td>\n",
       "      <td>0.477121</td>\n",
       "      <td>0.395511</td>\n",
       "      <td>0.081610</td>\n",
       "      <td>0</td>\n",
       "      <td>0</td>\n",
       "    </tr>\n",
       "    <tr>\n",
       "      <th>90</th>\n",
       "      <td>16139.447934</td>\n",
       "      <td>0.301030</td>\n",
       "      <td>0.196255</td>\n",
       "      <td>0.104775</td>\n",
       "      <td>0</td>\n",
       "      <td>0</td>\n",
       "    </tr>\n",
       "    <tr>\n",
       "      <th>96</th>\n",
       "      <td>16169.841322</td>\n",
       "      <td>0.000000</td>\n",
       "      <td>-0.127940</td>\n",
       "      <td>0.127940</td>\n",
       "      <td>0</td>\n",
       "      <td>0</td>\n",
       "    </tr>\n",
       "    <tr>\n",
       "      <th>80</th>\n",
       "      <td>16200.234711</td>\n",
       "      <td>0.477121</td>\n",
       "      <td>0.326016</td>\n",
       "      <td>0.151105</td>\n",
       "      <td>0</td>\n",
       "      <td>0</td>\n",
       "    </tr>\n",
       "  </tbody>\n",
       "</table>\n",
       "</div>"
      ],
      "text/plain": [
       "           Month     Count       res       fit  Dream  Cheat\n",
       "94  16078.661157  0.000000 -0.058446  0.058446      0      0\n",
       "76  16109.054545  0.477121  0.395511  0.081610      0      0\n",
       "90  16139.447934  0.301030  0.196255  0.104775      0      0\n",
       "96  16169.841322  0.000000 -0.127940  0.127940      0      0\n",
       "80  16200.234711  0.477121  0.326016  0.151105      0      0"
      ]
     },
     "execution_count": 170,
     "metadata": {},
     "output_type": "execute_result"
    }
   ],
   "source": [
    "freq['Month']=mdates.date2num(freq['Month'])\n",
    "very_end = mdates.datestr2num('05/30/2021')\n",
    "freq['Cheat'] = freq['Month'].apply(lambda x: 1 if x > end else 0)\n",
    "#freq['Cheat'] = freq['Cheat'].apply(lambda x: 1 if x else 0)\n",
    "freq.head()"
   ]
  },
  {
   "cell_type": "code",
   "execution_count": 171,
   "id": "5faeded5-1f12-440f-92c0-186b7e04ad29",
   "metadata": {},
   "outputs": [],
   "source": [
    "y,X = dmatrices('Count ~ Month*Dream + Month*Cheat',freq, return_type = 'dataframe')\n",
    "y = np.ravel(y)\n",
    "mod = sm.OLS(y,X)\n",
    "fit = mod.fit()"
   ]
  },
  {
   "cell_type": "code",
   "execution_count": 172,
   "id": "e670faf6-92a0-485b-ba5b-a6e5e6cfc1d1",
   "metadata": {},
   "outputs": [
    {
     "data": {
      "text/plain": [
       "Intercept      -6.464687\n",
       "Month           0.000423\n",
       "Dream         -41.625253\n",
       "Month:Dream     0.002322\n",
       "Cheat          61.912920\n",
       "Month:Cheat    -0.003224\n",
       "dtype: float64"
      ]
     },
     "execution_count": 172,
     "metadata": {},
     "output_type": "execute_result"
    }
   ],
   "source": [
    "fit.params"
   ]
  },
  {
   "cell_type": "code",
   "execution_count": 173,
   "id": "215bdf7a-e335-4bba-aa47-7febc2d052c3",
   "metadata": {},
   "outputs": [
    {
     "data": {
      "text/plain": [
       "Intercept      2.191631e-07\n",
       "Month          9.302297e-09\n",
       "Dream          1.660017e-01\n",
       "Month:Dream    1.535356e-01\n",
       "Cheat          5.530645e-06\n",
       "Month:Cheat    7.928875e-06\n",
       "Name: P>|t|, dtype: float64"
      ]
     },
     "execution_count": 173,
     "metadata": {},
     "output_type": "execute_result"
    }
   ],
   "source": [
    "fit.summary2().tables[1]['P>|t|']"
   ]
  },
  {
   "cell_type": "code",
   "execution_count": 174,
   "id": "b9383e35-0d0b-4c02-8bb7-c9b35b20b8e6",
   "metadata": {},
   "outputs": [
    {
     "data": {
      "image/png": "[encoded data removed]",
      "text/plain": [
       "<Figure size 432x288 with 2 Axes>"
      ]
     },
     "metadata": {
      "needs_background": "light"
     },
     "output_type": "display_data"
    }
   ],
   "source": [
    "freq['res'] = fit.resid\n",
    "freq['fit'] = fit.fittedvalues\n",
    "freq['Month'] = copy\n",
    "freq = freq.sort_values(by = 'Month')\n",
    "fig,ax = plt.subplots()\n",
    "ax.bar(freq['Month'], freq['Count'], width = 30)\n",
    "ax2 = plt.twinx()\n",
    "ax2.set_ylim(ax.get_ylim())\n",
    "ax2.plot(freq['Month'], freq['fit'], color='k', label='Regression')\n",
    "plt.show()"
   ]
  },
  {
   "cell_type": "code",
   "execution_count": null,
   "id": "de134298-6392-4268-9be2-c5b3cde8e066",
   "metadata": {},
   "outputs": [],
   "source": []
  },
  {
   "cell_type": "code",
   "execution_count": 36,
   "id": "09275c16-541b-4c6f-8178-b86b21624e5c",
   "metadata": {},
   "outputs": [
    {
     "data": {
      "text/html": [
       "<div>\n",
       "<style scoped>\n",
       "    .dataframe tbody tr th:only-of-type {\n",
       "        vertical-align: middle;\n",
       "    }\n",
       "\n",
       "    .dataframe tbody tr th {\n",
       "        vertical-align: top;\n",
       "    }\n",
       "\n",
       "    .dataframe thead th {\n",
       "        text-align: right;\n",
       "    }\n",
       "</style>\n",
       "<table border=\"1\" class=\"dataframe\">\n",
       "  <thead>\n",
       "    <tr style=\"text-align: right;\">\n",
       "      <th></th>\n",
       "      <th>Month</th>\n",
       "      <th>Count</th>\n",
       "      <th>res</th>\n",
       "      <th>fit</th>\n",
       "      <th>Dream</th>\n",
       "      <th>Cheat</th>\n",
       "    </tr>\n",
       "  </thead>\n",
       "  <tbody>\n",
       "    <tr>\n",
       "      <th>78</th>\n",
       "      <td>2013-02-08 08:00:47.603305728</td>\n",
       "      <td>1.098612</td>\n",
       "      <td>0.629268</td>\n",
       "      <td>0.469344</td>\n",
       "      <td>0</td>\n",
       "      <td>0</td>\n",
       "    </tr>\n",
       "    <tr>\n",
       "      <th>83</th>\n",
       "      <td>2013-03-10 17:27:16.363636480</td>\n",
       "      <td>1.098612</td>\n",
       "      <td>0.599834</td>\n",
       "      <td>0.498778</td>\n",
       "      <td>0</td>\n",
       "      <td>0</td>\n",
       "    </tr>\n",
       "    <tr>\n",
       "      <th>88</th>\n",
       "      <td>2013-04-10 02:53:45.123966976</td>\n",
       "      <td>0.693147</td>\n",
       "      <td>0.164936</td>\n",
       "      <td>0.528211</td>\n",
       "      <td>0</td>\n",
       "      <td>0</td>\n",
       "    </tr>\n",
       "    <tr>\n",
       "      <th>76</th>\n",
       "      <td>2013-05-10 12:20:13.884297472</td>\n",
       "      <td>1.098612</td>\n",
       "      <td>0.540967</td>\n",
       "      <td>0.557645</td>\n",
       "      <td>0</td>\n",
       "      <td>0</td>\n",
       "    </tr>\n",
       "    <tr>\n",
       "      <th>103</th>\n",
       "      <td>2013-06-09 21:46:42.644627968</td>\n",
       "      <td>0.000000</td>\n",
       "      <td>-0.587078</td>\n",
       "      <td>0.587078</td>\n",
       "      <td>0</td>\n",
       "      <td>0</td>\n",
       "    </tr>\n",
       "    <tr>\n",
       "      <th>...</th>\n",
       "      <td>...</td>\n",
       "      <td>...</td>\n",
       "      <td>...</td>\n",
       "      <td>...</td>\n",
       "      <td>...</td>\n",
       "      <td>...</td>\n",
       "    </tr>\n",
       "    <tr>\n",
       "      <th>15</th>\n",
       "      <td>2021-12-05 00:47:36.198347008</td>\n",
       "      <td>6.049733</td>\n",
       "      <td>0.669827</td>\n",
       "      <td>5.379907</td>\n",
       "      <td>0</td>\n",
       "      <td>1</td>\n",
       "    </tr>\n",
       "    <tr>\n",
       "      <th>16</th>\n",
       "      <td>2022-01-04 10:14:04.958677760</td>\n",
       "      <td>5.973810</td>\n",
       "      <td>0.789882</td>\n",
       "      <td>5.183928</td>\n",
       "      <td>0</td>\n",
       "      <td>1</td>\n",
       "    </tr>\n",
       "    <tr>\n",
       "      <th>21</th>\n",
       "      <td>2022-02-03 19:40:33.719008256</td>\n",
       "      <td>5.129899</td>\n",
       "      <td>0.141950</td>\n",
       "      <td>4.987949</td>\n",
       "      <td>0</td>\n",
       "      <td>1</td>\n",
       "    </tr>\n",
       "    <tr>\n",
       "      <th>31</th>\n",
       "      <td>2022-03-06 05:07:02.479338752</td>\n",
       "      <td>3.688879</td>\n",
       "      <td>-1.103091</td>\n",
       "      <td>4.791970</td>\n",
       "      <td>0</td>\n",
       "      <td>1</td>\n",
       "    </tr>\n",
       "    <tr>\n",
       "      <th>30</th>\n",
       "      <td>2022-04-05 14:33:31.239669504</td>\n",
       "      <td>3.688879</td>\n",
       "      <td>-0.907112</td>\n",
       "      <td>4.595991</td>\n",
       "      <td>0</td>\n",
       "      <td>1</td>\n",
       "    </tr>\n",
       "  </tbody>\n",
       "</table>\n",
       "<p>105 rows × 6 columns</p>\n",
       "</div>"
      ],
      "text/plain": [
       "                            Month     Count       res       fit  Dream  Cheat\n",
       "78  2013-02-08 08:00:47.603305728  1.098612  0.629268  0.469344      0      0\n",
       "83  2013-03-10 17:27:16.363636480  1.098612  0.599834  0.498778      0      0\n",
       "88  2013-04-10 02:53:45.123966976  0.693147  0.164936  0.528211      0      0\n",
       "76  2013-05-10 12:20:13.884297472  1.098612  0.540967  0.557645      0      0\n",
       "103 2013-06-09 21:46:42.644627968  0.000000 -0.587078  0.587078      0      0\n",
       "..                            ...       ...       ...       ...    ...    ...\n",
       "15  2021-12-05 00:47:36.198347008  6.049733  0.669827  5.379907      0      1\n",
       "16  2022-01-04 10:14:04.958677760  5.973810  0.789882  5.183928      0      1\n",
       "21  2022-02-03 19:40:33.719008256  5.129899  0.141950  4.987949      0      1\n",
       "31  2022-03-06 05:07:02.479338752  3.688879 -1.103091  4.791970      0      1\n",
       "30  2022-04-05 14:33:31.239669504  3.688879 -0.907112  4.595991      0      1\n",
       "\n",
       "[105 rows x 6 columns]"
      ]
     },
     "execution_count": 36,
     "metadata": {},
     "output_type": "execute_result"
    }
   ],
   "source": [
    "freq"
   ]
  },
  {
   "cell_type": "code",
   "execution_count": 37,
   "id": "aa44d8e0-396a-4f73-8324-92292507f255",
   "metadata": {},
   "outputs": [
    {
     "data": {
      "text/plain": [
       "0     2021-02-04 02:22:48.595041280\n",
       "1     2021-03-06 11:49:17.355371776\n",
       "2     2021-01-04 16:56:19.834710784\n",
       "3     2021-04-05 21:15:46.115702528\n",
       "4     2021-05-06 06:42:14.876033024\n",
       "                   ...             \n",
       "100   2015-12-08 17:01:05.454545408\n",
       "101   2016-03-08 21:20:31.735537152\n",
       "102   2014-04-09 20:11:30.247933952\n",
       "103   2013-06-09 21:46:42.644627968\n",
       "104   2013-12-09 06:25:35.206611456\n",
       "Name: Month, Length: 105, dtype: datetime64[ns]"
      ]
     },
     "execution_count": 37,
     "metadata": {},
     "output_type": "execute_result"
    }
   ],
   "source": [
    "copy"
   ]
  },
  {
   "cell_type": "code",
   "execution_count": 38,
   "id": "53c14d6e-f3e4-4222-8305-2db553c311e4",
   "metadata": {},
   "outputs": [
    {
     "data": {
      "image/png": "[encoded data removed]",
      "text/plain": [
       "<Figure size 432x288 with 1 Axes>"
      ]
     },
     "metadata": {
      "needs_background": "light"
     },
     "output_type": "display_data"
    }
   ],
   "source": [
    "freq['res'] = fit.resid\n",
    "fig,ax = plt.subplots()\n",
    "ax.bar(copy, freq['res'], width = 30)\n",
    "plt.show()"
   ]
  },
  {
   "cell_type": "code",
   "execution_count": null,
   "id": "4732ad6e-248e-442e-93d5-e2305b6f2764",
   "metadata": {},
   "outputs": [],
   "source": []
  },
  {
   "cell_type": "code",
   "execution_count": 39,
   "id": "c63ec98f-5581-4d32-9ac8-d8b86c16af47",
   "metadata": {},
   "outputs": [
    {
     "data": {
      "text/html": [
       "<div>\n",
       "<style scoped>\n",
       "    .dataframe tbody tr th:only-of-type {\n",
       "        vertical-align: middle;\n",
       "    }\n",
       "\n",
       "    .dataframe tbody tr th {\n",
       "        vertical-align: top;\n",
       "    }\n",
       "\n",
       "    .dataframe thead th {\n",
       "        text-align: right;\n",
       "    }\n",
       "</style>\n",
       "<table border=\"1\" class=\"dataframe\">\n",
       "  <thead>\n",
       "    <tr style=\"text-align: right;\">\n",
       "      <th></th>\n",
       "      <th>Month</th>\n",
       "      <th>Count</th>\n",
       "      <th>res</th>\n",
       "      <th>fit</th>\n",
       "      <th>Dream</th>\n",
       "      <th>Cheat</th>\n",
       "    </tr>\n",
       "  </thead>\n",
       "  <tbody>\n",
       "    <tr>\n",
       "      <th>78</th>\n",
       "      <td>2013-02-08 08:00:47.603305728</td>\n",
       "      <td>1.098612</td>\n",
       "      <td>0.629268</td>\n",
       "      <td>0.469344</td>\n",
       "      <td>0</td>\n",
       "      <td>0</td>\n",
       "    </tr>\n",
       "    <tr>\n",
       "      <th>83</th>\n",
       "      <td>2013-03-10 17:27:16.363636480</td>\n",
       "      <td>1.098612</td>\n",
       "      <td>0.599834</td>\n",
       "      <td>0.498778</td>\n",
       "      <td>0</td>\n",
       "      <td>0</td>\n",
       "    </tr>\n",
       "    <tr>\n",
       "      <th>88</th>\n",
       "      <td>2013-04-10 02:53:45.123966976</td>\n",
       "      <td>0.693147</td>\n",
       "      <td>0.164936</td>\n",
       "      <td>0.528211</td>\n",
       "      <td>0</td>\n",
       "      <td>0</td>\n",
       "    </tr>\n",
       "    <tr>\n",
       "      <th>76</th>\n",
       "      <td>2013-05-10 12:20:13.884297472</td>\n",
       "      <td>1.098612</td>\n",
       "      <td>0.540967</td>\n",
       "      <td>0.557645</td>\n",
       "      <td>0</td>\n",
       "      <td>0</td>\n",
       "    </tr>\n",
       "    <tr>\n",
       "      <th>103</th>\n",
       "      <td>2013-06-09 21:46:42.644627968</td>\n",
       "      <td>0.000000</td>\n",
       "      <td>-0.587078</td>\n",
       "      <td>0.587078</td>\n",
       "      <td>0</td>\n",
       "      <td>0</td>\n",
       "    </tr>\n",
       "    <tr>\n",
       "      <th>...</th>\n",
       "      <td>...</td>\n",
       "      <td>...</td>\n",
       "      <td>...</td>\n",
       "      <td>...</td>\n",
       "      <td>...</td>\n",
       "      <td>...</td>\n",
       "    </tr>\n",
       "    <tr>\n",
       "      <th>15</th>\n",
       "      <td>2021-12-05 00:47:36.198347008</td>\n",
       "      <td>6.049733</td>\n",
       "      <td>0.669827</td>\n",
       "      <td>5.379907</td>\n",
       "      <td>0</td>\n",
       "      <td>1</td>\n",
       "    </tr>\n",
       "    <tr>\n",
       "      <th>16</th>\n",
       "      <td>2022-01-04 10:14:04.958677760</td>\n",
       "      <td>5.973810</td>\n",
       "      <td>0.789882</td>\n",
       "      <td>5.183928</td>\n",
       "      <td>0</td>\n",
       "      <td>1</td>\n",
       "    </tr>\n",
       "    <tr>\n",
       "      <th>21</th>\n",
       "      <td>2022-02-03 19:40:33.719008256</td>\n",
       "      <td>5.129899</td>\n",
       "      <td>0.141950</td>\n",
       "      <td>4.987949</td>\n",
       "      <td>0</td>\n",
       "      <td>1</td>\n",
       "    </tr>\n",
       "    <tr>\n",
       "      <th>31</th>\n",
       "      <td>2022-03-06 05:07:02.479338752</td>\n",
       "      <td>3.688879</td>\n",
       "      <td>-1.103091</td>\n",
       "      <td>4.791970</td>\n",
       "      <td>0</td>\n",
       "      <td>1</td>\n",
       "    </tr>\n",
       "    <tr>\n",
       "      <th>30</th>\n",
       "      <td>2022-04-05 14:33:31.239669504</td>\n",
       "      <td>3.688879</td>\n",
       "      <td>-0.907112</td>\n",
       "      <td>4.595991</td>\n",
       "      <td>0</td>\n",
       "      <td>1</td>\n",
       "    </tr>\n",
       "  </tbody>\n",
       "</table>\n",
       "<p>105 rows × 6 columns</p>\n",
       "</div>"
      ],
      "text/plain": [
       "                            Month     Count       res       fit  Dream  Cheat\n",
       "78  2013-02-08 08:00:47.603305728  1.098612  0.629268  0.469344      0      0\n",
       "83  2013-03-10 17:27:16.363636480  1.098612  0.599834  0.498778      0      0\n",
       "88  2013-04-10 02:53:45.123966976  0.693147  0.164936  0.528211      0      0\n",
       "76  2013-05-10 12:20:13.884297472  1.098612  0.540967  0.557645      0      0\n",
       "103 2013-06-09 21:46:42.644627968  0.000000 -0.587078  0.587078      0      0\n",
       "..                            ...       ...       ...       ...    ...    ...\n",
       "15  2021-12-05 00:47:36.198347008  6.049733  0.669827  5.379907      0      1\n",
       "16  2022-01-04 10:14:04.958677760  5.973810  0.789882  5.183928      0      1\n",
       "21  2022-02-03 19:40:33.719008256  5.129899  0.141950  4.987949      0      1\n",
       "31  2022-03-06 05:07:02.479338752  3.688879 -1.103091  4.791970      0      1\n",
       "30  2022-04-05 14:33:31.239669504  3.688879 -0.907112  4.595991      0      1\n",
       "\n",
       "[105 rows x 6 columns]"
      ]
     },
     "execution_count": 39,
     "metadata": {},
     "output_type": "execute_result"
    }
   ],
   "source": [
    "freq"
   ]
  },
  {
   "cell_type": "markdown",
   "id": "1ed91f7c-9f3b-4a89-8504-a05f54646fa3",
   "metadata": {},
   "source": [
    "However, unlike the general trend we saw before, Minecraft exceeded in popularity, even on the logarithmic scale. Weirder, we see a steep dropoff starting in 2021. This suggests Minecraft's speedrunning popularity may be different to the overall speedrunning scene. Let's investigate with a linear model. "
   ]
  },
  {
   "cell_type": "markdown",
   "id": "cd50c1cf-109d-4908-b86f-bde0dee25b51",
   "metadata": {},
   "source": [
    "So we see time plays an important factor here, but to what extent? Well, let's attempt a linear regression. Let's first begin with Minecraft, and can generalize for all the other games later. These are the variables I will immediately consider: the date submitted, the category, the variables (aka the subcategory), and if the date is after March 1, 2020 (meaning the runner would likely be living in quarantine and/or a pandemic). "
   ]
  }
 ],
 "metadata": {
  "kernelspec": {
   "display_name": "Python 3 (ipykernel)",
   "language": "python",
   "name": "python3"
  },
  "language_info": {
   "codemirror_mode": {
    "name": "ipython",
    "version": 3
   },
   "file_extension": ".py",
   "mimetype": "text/x-python",
   "name": "python",
   "nbconvert_exporter": "python",
   "pygments_lexer": "ipython3",
   "version": "3.9.7"
  }
 },
 "nbformat": 4,
 "nbformat_minor": 5
}
